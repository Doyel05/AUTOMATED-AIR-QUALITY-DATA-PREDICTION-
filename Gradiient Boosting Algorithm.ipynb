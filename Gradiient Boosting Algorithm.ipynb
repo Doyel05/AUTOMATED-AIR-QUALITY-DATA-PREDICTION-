{
 "cells": [
  {
   "cell_type": "code",
   "execution_count": 13,
   "metadata": {},
   "outputs": [],
   "source": [
    "# import libraries \n",
    "from sklearn.ensemble import GradientBoostingClassifier\n",
    "import pandas as pd\n",
    "import numpy as np\n",
    "from sklearn.preprocessing import StandardScaler\n",
    "from sklearn.model_selection import train_test_split\n",
    "#from sklearn.model_selection import GridSearchCV\n",
    "import matplotlib.pylab as plt\n",
    "from sklearn.metrics import classification_report\n",
    "from sklearn.metrics import accuracy_score, confusion_matrix\n",
    "from sklearn import preprocessing\n",
    "import warnings\n",
    "warnings.filterwarnings(\"ignore\")"
   ]
  },
  {
   "cell_type": "code",
   "execution_count": 2,
   "metadata": {},
   "outputs": [
    {
     "data": {
      "text/html": [
       "<div>\n",
       "<style scoped>\n",
       "    .dataframe tbody tr th:only-of-type {\n",
       "        vertical-align: middle;\n",
       "    }\n",
       "\n",
       "    .dataframe tbody tr th {\n",
       "        vertical-align: top;\n",
       "    }\n",
       "\n",
       "    .dataframe thead th {\n",
       "        text-align: right;\n",
       "    }\n",
       "</style>\n",
       "<table border=\"1\" class=\"dataframe\">\n",
       "  <thead>\n",
       "    <tr style=\"text-align: right;\">\n",
       "      <th></th>\n",
       "      <th>No</th>\n",
       "      <th>year</th>\n",
       "      <th>month</th>\n",
       "      <th>day</th>\n",
       "      <th>hour</th>\n",
       "      <th>PM2.5</th>\n",
       "      <th>PM10</th>\n",
       "      <th>SO2</th>\n",
       "      <th>NO2</th>\n",
       "      <th>CO</th>\n",
       "      <th>O3</th>\n",
       "      <th>TEMP</th>\n",
       "      <th>PRES</th>\n",
       "      <th>DEWP</th>\n",
       "      <th>RAIN</th>\n",
       "      <th>WSPM</th>\n",
       "    </tr>\n",
       "  </thead>\n",
       "  <tbody>\n",
       "    <tr>\n",
       "      <th>0</th>\n",
       "      <td>1</td>\n",
       "      <td>2013</td>\n",
       "      <td>3</td>\n",
       "      <td>1</td>\n",
       "      <td>0</td>\n",
       "      <td>4</td>\n",
       "      <td>4.0</td>\n",
       "      <td>4.0</td>\n",
       "      <td>7.0</td>\n",
       "      <td>300.0</td>\n",
       "      <td>77.0</td>\n",
       "      <td>-0.7</td>\n",
       "      <td>1023.0</td>\n",
       "      <td>-18.8</td>\n",
       "      <td>0.0</td>\n",
       "      <td>4.4</td>\n",
       "    </tr>\n",
       "    <tr>\n",
       "      <th>1</th>\n",
       "      <td>2</td>\n",
       "      <td>2013</td>\n",
       "      <td>3</td>\n",
       "      <td>1</td>\n",
       "      <td>1</td>\n",
       "      <td>8</td>\n",
       "      <td>8.0</td>\n",
       "      <td>4.0</td>\n",
       "      <td>7.0</td>\n",
       "      <td>300.0</td>\n",
       "      <td>77.0</td>\n",
       "      <td>-1.1</td>\n",
       "      <td>1023.2</td>\n",
       "      <td>-18.2</td>\n",
       "      <td>0.0</td>\n",
       "      <td>4.7</td>\n",
       "    </tr>\n",
       "    <tr>\n",
       "      <th>2</th>\n",
       "      <td>3</td>\n",
       "      <td>2013</td>\n",
       "      <td>3</td>\n",
       "      <td>1</td>\n",
       "      <td>2</td>\n",
       "      <td>7</td>\n",
       "      <td>7.0</td>\n",
       "      <td>5.0</td>\n",
       "      <td>10.0</td>\n",
       "      <td>300.0</td>\n",
       "      <td>73.0</td>\n",
       "      <td>-1.1</td>\n",
       "      <td>1023.5</td>\n",
       "      <td>-18.2</td>\n",
       "      <td>0.0</td>\n",
       "      <td>5.6</td>\n",
       "    </tr>\n",
       "    <tr>\n",
       "      <th>3</th>\n",
       "      <td>4</td>\n",
       "      <td>2013</td>\n",
       "      <td>3</td>\n",
       "      <td>1</td>\n",
       "      <td>3</td>\n",
       "      <td>6</td>\n",
       "      <td>6.0</td>\n",
       "      <td>11.0</td>\n",
       "      <td>11.0</td>\n",
       "      <td>300.0</td>\n",
       "      <td>72.0</td>\n",
       "      <td>-1.4</td>\n",
       "      <td>1024.5</td>\n",
       "      <td>-19.4</td>\n",
       "      <td>0.0</td>\n",
       "      <td>3.1</td>\n",
       "    </tr>\n",
       "    <tr>\n",
       "      <th>4</th>\n",
       "      <td>5</td>\n",
       "      <td>2013</td>\n",
       "      <td>3</td>\n",
       "      <td>1</td>\n",
       "      <td>4</td>\n",
       "      <td>3</td>\n",
       "      <td>3.0</td>\n",
       "      <td>12.0</td>\n",
       "      <td>12.0</td>\n",
       "      <td>300.0</td>\n",
       "      <td>72.0</td>\n",
       "      <td>-2.0</td>\n",
       "      <td>1025.2</td>\n",
       "      <td>-19.5</td>\n",
       "      <td>0.0</td>\n",
       "      <td>2.0</td>\n",
       "    </tr>\n",
       "  </tbody>\n",
       "</table>\n",
       "</div>"
      ],
      "text/plain": [
       "   No  year  month  day  hour  PM2.5  PM10   SO2   NO2     CO    O3  TEMP  \\\n",
       "0   1  2013      3    1     0      4   4.0   4.0   7.0  300.0  77.0  -0.7   \n",
       "1   2  2013      3    1     1      8   8.0   4.0   7.0  300.0  77.0  -1.1   \n",
       "2   3  2013      3    1     2      7   7.0   5.0  10.0  300.0  73.0  -1.1   \n",
       "3   4  2013      3    1     3      6   6.0  11.0  11.0  300.0  72.0  -1.4   \n",
       "4   5  2013      3    1     4      3   3.0  12.0  12.0  300.0  72.0  -2.0   \n",
       "\n",
       "     PRES  DEWP  RAIN  WSPM  \n",
       "0  1023.0 -18.8   0.0   4.4  \n",
       "1  1023.2 -18.2   0.0   4.7  \n",
       "2  1023.5 -18.2   0.0   5.6  \n",
       "3  1024.5 -19.4   0.0   3.1  \n",
       "4  1025.2 -19.5   0.0   2.0  "
      ]
     },
     "execution_count": 2,
     "metadata": {},
     "output_type": "execute_result"
    }
   ],
   "source": [
    "# define dataset\n",
    "df = pd.read_csv('PRSA_Data_Aotizhongxin_20130301-20170228.csv' , nrows = 500)\n",
    "\n",
    "df_new = df.drop(['wd','station'] , axis = 1)\n",
    "df2 = df_new[np.isfinite(df_new).all(1)]\n",
    "df2.head()"
   ]
  },
  {
   "cell_type": "code",
   "execution_count": 33,
   "metadata": {},
   "outputs": [],
   "source": [
    "# Split dataset into test and train data\n",
    "X_train, X_test, y_train, y_test = train_test_split(df2.drop('CO' , axis = 1) , df2['CO'] , test_size = 0.2)"
   ]
  },
  {
   "cell_type": "code",
   "execution_count": 34,
   "metadata": {},
   "outputs": [
    {
     "data": {
      "text/plain": [
       "GradientBoostingClassifier(ccp_alpha=0.0, criterion='friedman_mse', init=None,\n",
       "                           learning_rate=0.05, loss='deviance', max_depth=3,\n",
       "                           max_features=5, max_leaf_nodes=None,\n",
       "                           min_impurity_decrease=0.0, min_impurity_split=None,\n",
       "                           min_samples_leaf=1, min_samples_split=2,\n",
       "                           min_weight_fraction_leaf=0.0, n_estimators=500,\n",
       "                           n_iter_no_change=None, presort='deprecated',\n",
       "                           random_state=100, subsample=1.0, tol=0.0001,\n",
       "                           validation_fraction=0.1, verbose=0,\n",
       "                           warm_start=False)"
      ]
     },
     "execution_count": 34,
     "metadata": {},
     "output_type": "execute_result"
    }
   ],
   "source": [
    "# define Gradient Boosting Classifier with hyperarameters\n",
    "gbc = GradientBoostingClassifier(n_estimators = 500 , learning_rate = 0.05 , random_state = 100 , max_features = 5)\n",
    "# fit train data to gbc\n",
    "gbc.fit((X_train).round() , ( y_train).round())"
   ]
  },
  {
   "cell_type": "code",
   "execution_count": 35,
   "metadata": {},
   "outputs": [],
   "source": [
    "prediction = gbc.predict(X_test).round()"
   ]
  },
  {
   "cell_type": "code",
   "execution_count": 36,
   "metadata": {},
   "outputs": [],
   "source": [
    "from sklearn.metrics import classification_report , confusion_matrix"
   ]
  },
  {
   "cell_type": "code",
   "execution_count": 37,
   "metadata": {},
   "outputs": [
    {
     "data": {
      "text/plain": [
       "0.24742268041237114"
      ]
     },
     "execution_count": 37,
     "metadata": {},
     "output_type": "execute_result"
    }
   ],
   "source": [
    "from sklearn.metrics import accuracy_score\n",
    "accuracy_score((y_test).round() , prediction)"
   ]
  },
  {
   "cell_type": "code",
   "execution_count": 38,
   "metadata": {},
   "outputs": [
    {
     "name": "stdout",
     "output_type": "stream",
     "text": [
      "[[3 0 0 ... 0 0 0]\n",
      " [0 7 0 ... 0 0 0]\n",
      " [0 2 3 ... 0 0 0]\n",
      " ...\n",
      " [0 0 0 ... 0 0 0]\n",
      " [0 0 0 ... 0 0 0]\n",
      " [0 0 0 ... 0 0 0]]\n"
     ]
    }
   ],
   "source": [
    "# Confusion matrix will give number of correct and incorrect classifications\n",
    "print(confusion_matrix((y_test).round() , prediction))"
   ]
  },
  {
   "cell_type": "code",
   "execution_count": 39,
   "metadata": {},
   "outputs": [
    {
     "name": "stdout",
     "output_type": "stream",
     "text": [
      "              precision    recall  f1-score   support\n",
      "\n",
      "       300.0       1.00      1.00      1.00         3\n",
      "       400.0       0.78      1.00      0.88         7\n",
      "       500.0       0.33      0.38      0.35         8\n",
      "       600.0       0.00      0.00      0.00         5\n",
      "       700.0       0.62      0.56      0.59         9\n",
      "       800.0       0.00      0.00      0.00         2\n",
      "       900.0       0.50      0.50      0.50         2\n",
      "      1000.0       0.00      0.00      0.00         0\n",
      "      1100.0       0.17      0.25      0.20         4\n",
      "      1200.0       0.00      0.00      0.00         2\n",
      "      1300.0       0.00      0.00      0.00         1\n",
      "      1399.0       0.00      0.00      0.00         2\n",
      "      1500.0       0.00      0.00      0.00         3\n",
      "      1600.0       0.17      0.17      0.17         6\n",
      "      1700.0       1.00      0.14      0.25         7\n",
      "      1800.0       0.00      0.00      0.00         1\n",
      "      1899.0       0.00      0.00      0.00         3\n",
      "      2000.0       0.00      0.00      0.00         1\n",
      "      2100.0       0.25      0.33      0.29         3\n",
      "      2200.0       0.00      0.00      0.00         5\n",
      "      2299.0       0.25      0.50      0.33         2\n",
      "      2399.0       0.00      0.00      0.00         2\n",
      "      2500.0       0.00      0.00      0.00         3\n",
      "      2600.0       0.00      0.00      0.00         0\n",
      "      2700.0       0.00      0.00      0.00         2\n",
      "      2799.0       0.00      0.00      0.00         1\n",
      "      2899.0       0.00      0.00      0.00         2\n",
      "      3100.0       0.00      0.00      0.00         0\n",
      "      3200.0       0.00      0.00      0.00         3\n",
      "      3299.0       0.00      0.00      0.00         2\n",
      "      3399.0       0.00      0.00      0.00         1\n",
      "      3500.0       0.00      0.00      0.00         0\n",
      "      3600.0       0.00      0.00      0.00         1\n",
      "      3700.0       0.00      0.00      0.00         1\n",
      "      3799.0       0.00      0.00      0.00         1\n",
      "      4000.0       0.00      0.00      0.00         0\n",
      "      4099.0       0.00      0.00      0.00         1\n",
      "      4400.0       0.00      0.00      0.00         1\n",
      "      4900.0       0.00      0.00      0.00         0\n",
      "      5700.0       0.00      0.00      0.00         0\n",
      "\n",
      "    accuracy                           0.25        97\n",
      "   macro avg       0.13      0.12      0.11        97\n",
      "weighted avg       0.29      0.25      0.24        97\n",
      "\n"
     ]
    }
   ],
   "source": [
    "# check the classification report\n",
    "print(classification_report((y_test).round() , prediction))"
   ]
  },
  {
   "cell_type": "code",
   "execution_count": 40,
   "metadata": {},
   "outputs": [
    {
     "name": "stdout",
     "output_type": "stream",
     "text": [
      "GBC accuracy is 0.25\n"
     ]
    }
   ],
   "source": [
    "# find the accuracy of model\n",
    "print(\"GBC accuracy is %2.2f\" % accuracy_score( \n",
    "     (y_test).round(), gbc.predict(X_test)))"
   ]
  },
  {
   "cell_type": "code",
   "execution_count": null,
   "metadata": {},
   "outputs": [],
   "source": []
  }
 ],
 "metadata": {
  "kernelspec": {
   "display_name": "Python 3",
   "language": "python",
   "name": "python3"
  },
  "language_info": {
   "codemirror_mode": {
    "name": "ipython",
    "version": 3
   },
   "file_extension": ".py",
   "mimetype": "text/x-python",
   "name": "python",
   "nbconvert_exporter": "python",
   "pygments_lexer": "ipython3",
   "version": "3.6.8"
  }
 },
 "nbformat": 4,
 "nbformat_minor": 4
}
